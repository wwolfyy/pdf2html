{
 "cells": [
  {
   "cell_type": "code",
   "execution_count": 2,
   "metadata": {},
   "outputs": [
    {
     "name": "stderr",
     "output_type": "stream",
     "text": [
      "Pdfcrowd Error: 458 - Conversion Time Exceeded\n"
     ]
    },
    {
     "ename": "Error",
     "evalue": "458 - Conversion Time Exceeded",
     "output_type": "error",
     "traceback": [
      "\u001b[0;31m---------------------------------------------------------------------------\u001b[0m",
      "\u001b[0;31mError\u001b[0m                                     Traceback (most recent call last)",
      "Cell \u001b[0;32mIn[2], line 11\u001b[0m\n\u001b[1;32m      8\u001b[0m     \u001b[39m# run the conversion and write the result to a file\u001b[39;00m\n\u001b[1;32m      9\u001b[0m     \u001b[39m# filename = '/home/lstm/Downloads/누락판례/image/done/특허법원_2016나1691_판결서'\u001b[39;00m\n\u001b[1;32m     10\u001b[0m     filename \u001b[39m=\u001b[39m \u001b[39m'\u001b[39m\u001b[39m/home/lstm/Downloads/누락판례/text/대법원_2020도1007_판결서\u001b[39m\u001b[39m'\u001b[39m\n\u001b[0;32m---> 11\u001b[0m     client\u001b[39m.\u001b[39;49mconvertFileToFile(filename \u001b[39m+\u001b[39;49m \u001b[39m'\u001b[39;49m\u001b[39m.pdf\u001b[39;49m\u001b[39m'\u001b[39;49m, filename \u001b[39m+\u001b[39;49m \u001b[39m'\u001b[39;49m\u001b[39m.html\u001b[39;49m\u001b[39m'\u001b[39;49m)\n\u001b[1;32m     13\u001b[0m \u001b[39mexcept\u001b[39;00m pdfcrowd\u001b[39m.\u001b[39mError \u001b[39mas\u001b[39;00m why:\n\u001b[1;32m     14\u001b[0m     \u001b[39m# report the error\u001b[39;00m\n\u001b[1;32m     15\u001b[0m     sys\u001b[39m.\u001b[39mstderr\u001b[39m.\u001b[39mwrite(\u001b[39m'\u001b[39m\u001b[39mPdfcrowd Error: \u001b[39m\u001b[39m{}\u001b[39;00m\u001b[39m\\n\u001b[39;00m\u001b[39m'\u001b[39m\u001b[39m.\u001b[39mformat(why))\n",
      "File \u001b[0;32m~/miniconda3/envs/tmp/lib/python3.8/site-packages/pdfcrowd.py:5280\u001b[0m, in \u001b[0;36mPdfToHtmlClient.convertFileToFile\u001b[0;34m(self, file, file_path)\u001b[0m\n\u001b[1;32m   5278\u001b[0m output_file \u001b[39m=\u001b[39m \u001b[39mopen\u001b[39m(file_path, \u001b[39m'\u001b[39m\u001b[39mwb\u001b[39m\u001b[39m'\u001b[39m)\n\u001b[1;32m   5279\u001b[0m \u001b[39mtry\u001b[39;00m:\n\u001b[0;32m-> 5280\u001b[0m     \u001b[39mself\u001b[39;49m\u001b[39m.\u001b[39;49mconvertFileToStream(file, output_file)\n\u001b[1;32m   5281\u001b[0m     output_file\u001b[39m.\u001b[39mclose()\n\u001b[1;32m   5282\u001b[0m \u001b[39mexcept\u001b[39;00m Error:\n",
      "File \u001b[0;32m~/miniconda3/envs/tmp/lib/python3.8/site-packages/pdfcrowd.py:5263\u001b[0m, in \u001b[0;36mPdfToHtmlClient.convertFileToStream\u001b[0;34m(self, file, out_stream)\u001b[0m\n\u001b[1;32m   5260\u001b[0m     \u001b[39mraise\u001b[39;00m Error(create_invalid_value_message(file, \u001b[39m\"\u001b[39m\u001b[39mconvertFileToStream::file\u001b[39m\u001b[39m\"\u001b[39m, \u001b[39m\"\u001b[39m\u001b[39mpdf-to-html\u001b[39m\u001b[39m\"\u001b[39m, \u001b[39m'\u001b[39m\u001b[39mThe file must exist and not be empty.\u001b[39m\u001b[39m'\u001b[39m, \u001b[39m\"\u001b[39m\u001b[39mconvert_file_to_stream\u001b[39m\u001b[39m\"\u001b[39m), \u001b[39m470\u001b[39m);\n\u001b[1;32m   5262\u001b[0m \u001b[39mself\u001b[39m\u001b[39m.\u001b[39mfiles[\u001b[39m'\u001b[39m\u001b[39mfile\u001b[39m\u001b[39m'\u001b[39m] \u001b[39m=\u001b[39m get_utf8_string(file)\n\u001b[0;32m-> 5263\u001b[0m \u001b[39mself\u001b[39;49m\u001b[39m.\u001b[39;49mhelper\u001b[39m.\u001b[39;49mpost(\u001b[39mself\u001b[39;49m\u001b[39m.\u001b[39;49mfields, \u001b[39mself\u001b[39;49m\u001b[39m.\u001b[39;49mfiles, \u001b[39mself\u001b[39;49m\u001b[39m.\u001b[39;49mraw_data, out_stream)\n",
      "File \u001b[0;32m~/miniconda3/envs/tmp/lib/python3.8/site-packages/pdfcrowd.py:812\u001b[0m, in \u001b[0;36mConnectionHelper.post\u001b[0;34m(self, fields, files, raw_data, out_stream)\u001b[0m\n\u001b[1;32m    810\u001b[0m body \u001b[39m=\u001b[39m encode_multipart_post_data(fields, files, raw_data)\n\u001b[1;32m    811\u001b[0m content_type \u001b[39m=\u001b[39m \u001b[39m'\u001b[39m\u001b[39mmultipart/form-data; boundary=\u001b[39m\u001b[39m'\u001b[39m \u001b[39m+\u001b[39m MULTIPART_BOUNDARY\n\u001b[0;32m--> 812\u001b[0m \u001b[39mreturn\u001b[39;00m \u001b[39mself\u001b[39;49m\u001b[39m.\u001b[39;49m_do_post(body, content_type, out_stream)\n",
      "File \u001b[0;32m~/miniconda3/envs/tmp/lib/python3.8/site-packages/pdfcrowd.py:844\u001b[0m, in \u001b[0;36mConnectionHelper._do_post\u001b[0;34m(self, body, content_type, out_stream)\u001b[0m\n\u001b[1;32m    842\u001b[0m \u001b[39mwhile\u001b[39;00m \u001b[39mTrue\u001b[39;00m:\n\u001b[1;32m    843\u001b[0m     \u001b[39mtry\u001b[39;00m:\n\u001b[0;32m--> 844\u001b[0m         \u001b[39mreturn\u001b[39;00m \u001b[39mself\u001b[39;49m\u001b[39m.\u001b[39;49m_exec_request(body, content_type, out_stream)\n\u001b[1;32m    845\u001b[0m     \u001b[39mexcept\u001b[39;00m Error \u001b[39mas\u001b[39;00m err:\n\u001b[1;32m    846\u001b[0m         \u001b[39mif\u001b[39;00m err\u001b[39m.\u001b[39mgetCode() \u001b[39m==\u001b[39m \u001b[39m502\u001b[39m \u001b[39mand\u001b[39;00m \u001b[39mself\u001b[39m\u001b[39m.\u001b[39mretry_count \u001b[39m>\u001b[39m \u001b[39mself\u001b[39m\u001b[39m.\u001b[39mretry:\n",
      "File \u001b[0;32m~/miniconda3/envs/tmp/lib/python3.8/site-packages/pdfcrowd.py:879\u001b[0m, in \u001b[0;36mConnectionHelper._exec_request\u001b[0;34m(self, body, content_type, out_stream)\u001b[0m\n\u001b[1;32m    876\u001b[0m     \u001b[39mraise\u001b[39;00m Error(\u001b[39m'\u001b[39m\u001b[39mtest 502\u001b[39m\u001b[39m'\u001b[39m, \u001b[39m502\u001b[39m)\n\u001b[1;32m    878\u001b[0m \u001b[39mif\u001b[39;00m response\u001b[39m.\u001b[39mstatus \u001b[39m>\u001b[39m \u001b[39m299\u001b[39m:\n\u001b[0;32m--> 879\u001b[0m     \u001b[39mraise\u001b[39;00m Error(response\u001b[39m.\u001b[39mread(), response\u001b[39m.\u001b[39mstatus)\n\u001b[1;32m    881\u001b[0m \u001b[39mif\u001b[39;00m out_stream:\n\u001b[1;32m    882\u001b[0m     \u001b[39mwhile\u001b[39;00m \u001b[39mTrue\u001b[39;00m:\n",
      "\u001b[0;31mError\u001b[0m: 458 - Conversion Time Exceeded"
     ]
    }
   ],
   "source": [
    "import pdfcrowd\n",
    "import sys\n",
    "\n",
    "try:\n",
    "    # create the API client instance\n",
    "    client = pdfcrowd.PdfToHtmlClient('demo', 'ce544b6ea52a5621fb9d55f8b542d14d')\n",
    "\n",
    "    # run the conversion and write the result to a file\n",
    "    # filename = '/home/lstm/Downloads/누락판례/image/done/특허법원_2016나1691_판결서'\n",
    "    filename = '/home/lstm/Downloads/누락판례/text/대법원_2020도1007_판결서'\n",
    "    client.convertFileToFile(filename + '.pdf', filename + '.html')\n",
    "    \n",
    "except pdfcrowd.Error as why:\n",
    "    # report the error\n",
    "    sys.stderr.write('Pdfcrowd Error: {}\\n'.format(why))\n",
    "\n",
    "    # rethrow or handle the exception\n",
    "    raise"
   ]
  }
 ],
 "metadata": {
  "kernelspec": {
   "display_name": "tmp",
   "language": "python",
   "name": "python3"
  },
  "language_info": {
   "codemirror_mode": {
    "name": "ipython",
    "version": 3
   },
   "file_extension": ".py",
   "mimetype": "text/x-python",
   "name": "python",
   "nbconvert_exporter": "python",
   "pygments_lexer": "ipython3",
   "version": "3.8.15 (default, Nov 24 2022, 15:19:38) \n[GCC 11.2.0]"
  },
  "orig_nbformat": 4,
  "vscode": {
   "interpreter": {
    "hash": "a62615626ec88be10c2726bf350714dad00389397b4a08abd1a6c391e76a6c74"
   }
  }
 },
 "nbformat": 4,
 "nbformat_minor": 2
}
